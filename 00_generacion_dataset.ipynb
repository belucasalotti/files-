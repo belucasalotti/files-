{
 "cells": [
  {
   "cell_type": "code",
   "execution_count": 5,
   "metadata": {
    "colab": {
     "base_uri": "https://localhost:8080/",
     "height": 91
    },
    "colab_type": "code",
    "id": "yBWTBtS8Mp1D",
    "outputId": "ef6b2e2c-efdc-4d2b-dd09-2aa9292294ba"
   },
   "outputs": [
    {
     "name": "stdout",
     "output_type": "stream",
     "text": [
      "0.10.1\n"
     ]
    }
   ],
   "source": [
    "import io\n",
    "import pandas\n",
    "import scipy\n",
    "import seaborn\n",
    "\n",
    "print(seaborn.__version__)"
   ]
  },
  {
   "cell_type": "markdown",
   "metadata": {
    "colab_type": "text",
    "id": "kHB4Nd-QQZW-"
   },
   "source": [
    "Para comenzar, en el archivo headers.csv tenemos el dataset con sólo una respuesta, que usamos como base para rellenar nuestro formulario"
   ]
  },
  {
   "cell_type": "code",
   "execution_count": 6,
   "metadata": {
    "colab": {},
    "colab_type": "code",
    "id": "nDcbnarNOmYY"
   },
   "outputs": [],
   "source": [
    "df = pandas.read_csv('../datos/headers.csv')"
   ]
  },
  {
   "cell_type": "code",
   "execution_count": 7,
   "metadata": {
    "colab": {
     "base_uri": "https://localhost:8080/",
     "height": 148
    },
    "colab_type": "code",
    "id": "9YWxH8kTOx6N",
    "outputId": "f8283230-2d63-4e26-b5da-1828a347e91f"
   },
   "outputs": [
    {
     "data": {
      "text/html": [
       "<div>\n",
       "<style scoped>\n",
       "    .dataframe tbody tr th:only-of-type {\n",
       "        vertical-align: middle;\n",
       "    }\n",
       "\n",
       "    .dataframe tbody tr th {\n",
       "        vertical-align: top;\n",
       "    }\n",
       "\n",
       "    .dataframe thead th {\n",
       "        text-align: right;\n",
       "    }\n",
       "</style>\n",
       "<table border=\"1\" class=\"dataframe\">\n",
       "  <thead>\n",
       "    <tr style=\"text-align: right;\">\n",
       "      <th></th>\n",
       "      <th>Marca temporal</th>\n",
       "      <th>¿Con qué género te identificás?</th>\n",
       "      <th>¿Qué edad tenés?</th>\n",
       "      <th>¿De qué signo sos?</th>\n",
       "      <th>¿A qué te dedicás?</th>\n",
       "      <th>¿Cuánto creés que gana por mes un programador (con dos o menos años de experiencia) en la industria argentina?</th>\n",
       "      <th>¿Cuánto creés que gana por mes un programador (con tres o más años de experiencia) en la industria argentina?</th>\n",
       "    </tr>\n",
       "  </thead>\n",
       "  <tbody>\n",
       "    <tr>\n",
       "      <th>0</th>\n",
       "      <td>31/03/2020 17:10:01</td>\n",
       "      <td>Mujer</td>\n",
       "      <td>27</td>\n",
       "      <td>Tauro</td>\n",
       "      <td>Programadora</td>\n",
       "      <td>40000</td>\n",
       "      <td>80000</td>\n",
       "    </tr>\n",
       "  </tbody>\n",
       "</table>\n",
       "</div>"
      ],
      "text/plain": [
       "        Marca temporal ¿Con qué género te identificás?  ¿Qué edad tenés?  \\\n",
       "0  31/03/2020 17:10:01                           Mujer                27   \n",
       "\n",
       "  ¿De qué signo sos? ¿A qué te dedicás?  \\\n",
       "0              Tauro       Programadora   \n",
       "\n",
       "   ¿Cuánto creés que gana por mes un programador (con dos o menos años de experiencia) en la industria argentina?  \\\n",
       "0                                              40000                                                                \n",
       "\n",
       "   ¿Cuánto creés que gana por mes un programador (con tres o más años de experiencia) en la industria argentina?  \n",
       "0                                              80000                                                              "
      ]
     },
     "execution_count": 7,
     "metadata": {},
     "output_type": "execute_result"
    }
   ],
   "source": [
    "df"
   ]
  },
  {
   "cell_type": "markdown",
   "metadata": {
    "colab_type": "text",
    "id": "5o4INtyGSTxJ"
   },
   "source": [
    "## Agregando valores\n",
    "\n",
    "\n",
    "Para trabajar más cómodamente, renombraremos las columnas de DataFrame. Tengan cuidado de que el orden de los nombres nuevos se corresponda con el contenido de cada columna."
   ]
  },
  {
   "cell_type": "code",
   "execution_count": null,
   "metadata": {
    "colab": {},
    "colab_type": "code",
    "id": "D4HILmylmAO6"
   },
   "outputs": [],
   "source": [
    "df.columns = ['timestamp', 'gender', 'age', 'zodiac_sign', 'profession', 'junior_programmer_salary', 'senior_programmer_salary']"
   ]
  },
  {
   "cell_type": "code",
   "execution_count": null,
   "metadata": {
    "colab": {
     "base_uri": "https://localhost:8080/",
     "height": 77
    },
    "colab_type": "code",
    "id": "-Wfg2p78PN_-",
    "outputId": "a7e2704e-82aa-4610-c349-e8d4afbdb72d"
   },
   "outputs": [
    {
     "data": {
      "text/html": [
       "<div>\n",
       "<style scoped>\n",
       "    .dataframe tbody tr th:only-of-type {\n",
       "        vertical-align: middle;\n",
       "    }\n",
       "\n",
       "    .dataframe tbody tr th {\n",
       "        vertical-align: top;\n",
       "    }\n",
       "\n",
       "    .dataframe thead th {\n",
       "        text-align: right;\n",
       "    }\n",
       "</style>\n",
       "<table border=\"1\" class=\"dataframe\">\n",
       "  <thead>\n",
       "    <tr style=\"text-align: right;\">\n",
       "      <th></th>\n",
       "      <th>timestamp</th>\n",
       "      <th>gender</th>\n",
       "      <th>age</th>\n",
       "      <th>zodiac_sign</th>\n",
       "      <th>profession</th>\n",
       "      <th>junior_programmer_salary</th>\n",
       "      <th>senior_programmer_salary</th>\n",
       "    </tr>\n",
       "  </thead>\n",
       "  <tbody>\n",
       "    <tr>\n",
       "      <th>0</th>\n",
       "      <td>31/03/2020 17:10:01</td>\n",
       "      <td>Mujer</td>\n",
       "      <td>27</td>\n",
       "      <td>Tauro</td>\n",
       "      <td>Programadora</td>\n",
       "      <td>40000</td>\n",
       "      <td>80000</td>\n",
       "    </tr>\n",
       "  </tbody>\n",
       "</table>\n",
       "</div>"
      ],
      "text/plain": [
       "             timestamp  ... senior_programmer_salary\n",
       "0  31/03/2020 17:10:01  ...                    80000\n",
       "\n",
       "[1 rows x 7 columns]"
      ]
     },
     "execution_count": 18,
     "metadata": {
      "tags": []
     },
     "output_type": "execute_result"
    }
   ],
   "source": [
    "df"
   ]
  },
  {
   "cell_type": "markdown",
   "metadata": {
    "colab_type": "text",
    "id": "xsKu-5hWmvwN"
   },
   "source": [
    "## Distintas distribuciones para distintos datos"
   ]
  },
  {
   "cell_type": "code",
   "execution_count": null,
   "metadata": {
    "colab": {
     "base_uri": "https://localhost:8080/",
     "height": 416
    },
    "colab_type": "code",
    "id": "jbd-LW8lmu8P",
    "outputId": "bdb2fd2f-e395-4dbf-9dba-74bcc47da7eb"
   },
   "outputs": [
    {
     "data": {
      "text/html": [
       "<div>\n",
       "<style scoped>\n",
       "    .dataframe tbody tr th:only-of-type {\n",
       "        vertical-align: middle;\n",
       "    }\n",
       "\n",
       "    .dataframe tbody tr th {\n",
       "        vertical-align: top;\n",
       "    }\n",
       "\n",
       "    .dataframe thead th {\n",
       "        text-align: right;\n",
       "    }\n",
       "</style>\n",
       "<table border=\"1\" class=\"dataframe\">\n",
       "  <thead>\n",
       "    <tr style=\"text-align: right;\">\n",
       "      <th></th>\n",
       "      <th>gender</th>\n",
       "      <th>age</th>\n",
       "      <th>zodiac_sign</th>\n",
       "      <th>profession</th>\n",
       "      <th>junior_programmer_salary</th>\n",
       "      <th>senior_programmer_salary</th>\n",
       "    </tr>\n",
       "  </thead>\n",
       "  <tbody>\n",
       "    <tr>\n",
       "      <th>0</th>\n",
       "      <td>Prefiero no decirlo</td>\n",
       "      <td>23</td>\n",
       "      <td>Cáncer</td>\n",
       "      <td>Ingeniero</td>\n",
       "      <td>27000</td>\n",
       "      <td>149000</td>\n",
       "    </tr>\n",
       "    <tr>\n",
       "      <th>1</th>\n",
       "      <td>Mujer</td>\n",
       "      <td>17</td>\n",
       "      <td>Virgo</td>\n",
       "      <td>Contadora</td>\n",
       "      <td>28000</td>\n",
       "      <td>74000</td>\n",
       "    </tr>\n",
       "    <tr>\n",
       "      <th>2</th>\n",
       "      <td>Varon</td>\n",
       "      <td>37</td>\n",
       "      <td>Tauro</td>\n",
       "      <td>Físico</td>\n",
       "      <td>22000</td>\n",
       "      <td>75000</td>\n",
       "    </tr>\n",
       "    <tr>\n",
       "      <th>3</th>\n",
       "      <td>Varon</td>\n",
       "      <td>23</td>\n",
       "      <td>Sagitario</td>\n",
       "      <td>Ingeniero</td>\n",
       "      <td>34000</td>\n",
       "      <td>127000</td>\n",
       "    </tr>\n",
       "    <tr>\n",
       "      <th>4</th>\n",
       "      <td>Varon</td>\n",
       "      <td>60</td>\n",
       "      <td>Picis</td>\n",
       "      <td>Contador</td>\n",
       "      <td>29000</td>\n",
       "      <td>84000</td>\n",
       "    </tr>\n",
       "    <tr>\n",
       "      <th>...</th>\n",
       "      <td>...</td>\n",
       "      <td>...</td>\n",
       "      <td>...</td>\n",
       "      <td>...</td>\n",
       "      <td>...</td>\n",
       "      <td>...</td>\n",
       "    </tr>\n",
       "    <tr>\n",
       "      <th>95</th>\n",
       "      <td>Varon</td>\n",
       "      <td>23</td>\n",
       "      <td>Géminis</td>\n",
       "      <td>Física</td>\n",
       "      <td>52000</td>\n",
       "      <td>68000</td>\n",
       "    </tr>\n",
       "    <tr>\n",
       "      <th>96</th>\n",
       "      <td>Varon</td>\n",
       "      <td>53</td>\n",
       "      <td>Géminis</td>\n",
       "      <td>Programador</td>\n",
       "      <td>20000</td>\n",
       "      <td>52000</td>\n",
       "    </tr>\n",
       "    <tr>\n",
       "      <th>97</th>\n",
       "      <td>Varon</td>\n",
       "      <td>63</td>\n",
       "      <td>Capricornio</td>\n",
       "      <td>Física</td>\n",
       "      <td>33000</td>\n",
       "      <td>48000</td>\n",
       "    </tr>\n",
       "    <tr>\n",
       "      <th>98</th>\n",
       "      <td>Varon</td>\n",
       "      <td>35</td>\n",
       "      <td>Libra</td>\n",
       "      <td>Matemático</td>\n",
       "      <td>34000</td>\n",
       "      <td>76000</td>\n",
       "    </tr>\n",
       "    <tr>\n",
       "      <th>99</th>\n",
       "      <td>Mujer</td>\n",
       "      <td>23</td>\n",
       "      <td>Escorpio</td>\n",
       "      <td>Profesor</td>\n",
       "      <td>32000</td>\n",
       "      <td>121000</td>\n",
       "    </tr>\n",
       "  </tbody>\n",
       "</table>\n",
       "<p>100 rows × 6 columns</p>\n",
       "</div>"
      ],
      "text/plain": [
       "                 gender  ...  senior_programmer_salary\n",
       "0   Prefiero no decirlo  ...                    149000\n",
       "1                 Mujer  ...                     74000\n",
       "2                 Varon  ...                     75000\n",
       "3                 Varon  ...                    127000\n",
       "4                 Varon  ...                     84000\n",
       "..                  ...  ...                       ...\n",
       "95                Varon  ...                     68000\n",
       "96                Varon  ...                     52000\n",
       "97                Varon  ...                     48000\n",
       "98                Varon  ...                     76000\n",
       "99                Mujer  ...                    121000\n",
       "\n",
       "[100 rows x 6 columns]"
      ]
     },
     "execution_count": 79,
     "metadata": {
      "tags": []
     },
     "output_type": "execute_result"
    }
   ],
   "source": [
    "import numpy \n",
    "\n",
    "N = 100\n",
    "\n",
    "new_data = {}\n",
    "new_data['gender'] = numpy.random.choice(\n",
    "    ['Mujer', 'Varon', 'Otro', 'Prefiero no decirlo'], size=N,\n",
    "    p=[0.3, 0.65, 0.01, 0.04])\n",
    "new_data['age'] = numpy.random.normal(35, 15, size=N).astype(numpy.int32)\n",
    "new_data['zodiac_sign'] = numpy.random.choice(\n",
    "    ['Aries', 'Tauro', 'Géminis', 'Cáncer', 'Leo', 'Virgo', 'Libra', 'Escorpio',\n",
    "     'Sagitario', 'Capricornio', 'Acuario', 'Picis'], size=N)\n",
    "new_data['profession'] = numpy.random.choice(\n",
    "    ['Programador', 'Profesor', 'Maestra', 'Profesora', 'Contador', 'Contadora',\n",
    "     'Ingeniero', 'Economista', 'Estudiante', 'Matemático', 'Matemático',\n",
    "     'Físico', 'Física'], size=N)\n",
    "round_100 = lambda x: int(int(x) / 100) * 1000\n",
    "new_data['junior_programmer_salary'] = numpy.vectorize(round_100)(\n",
    "    numpy.random.lognormal(mean=8.15, sigma=0.25, size=N))\n",
    "new_data['senior_programmer_salary'] = numpy.vectorize(round_100)(\n",
    "    numpy.random.lognormal(mean=9, sigma=0.35, size=N))\n",
    "new_df = pandas.DataFrame(new_data)\n",
    "new_df"
   ]
  },
  {
   "cell_type": "markdown",
   "metadata": {
    "colab_type": "text",
    "id": "hor24zviXB6I"
   },
   "source": [
    "# Save dataset"
   ]
  },
  {
   "cell_type": "code",
   "execution_count": null,
   "metadata": {
    "colab": {},
    "colab_type": "code",
    "id": "dwD0SGOHlx9L"
   },
   "outputs": [],
   "source": [
    "from google.colab import files\n",
    "new_df.to_csv('generated_dataset.csv') \n",
    "files.download('generated_dataset.csv')"
   ]
  },
  {
   "cell_type": "code",
   "execution_count": null,
   "metadata": {
    "colab": {},
    "colab_type": "code",
    "id": "-AKM_cCaS_vl"
   },
   "outputs": [],
   "source": []
  }
 ],
 "metadata": {
  "colab": {
   "collapsed_sections": [],
   "name": "00_generacion_dataset.ipynb",
   "provenance": []
  },
  "kernelspec": {
   "display_name": "Python 3",
   "language": "python",
   "name": "python3"
  },
  "language_info": {
   "codemirror_mode": {
    "name": "ipython",
    "version": 3
   },
   "file_extension": ".py",
   "mimetype": "text/x-python",
   "name": "python",
   "nbconvert_exporter": "python",
   "pygments_lexer": "ipython3",
   "version": "3.6.10"
  }
 },
 "nbformat": 4,
 "nbformat_minor": 4
}
