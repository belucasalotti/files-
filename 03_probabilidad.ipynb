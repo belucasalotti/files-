{
 "cells": [
  {
   "cell_type": "markdown",
   "metadata": {
    "colab_type": "text",
    "id": "OdeS77ZRxPlx"
   },
   "source": [
    "<center>\n",
    "<h4>Universidad Nacional de Córdoba - Diplomatura en Ciencia de Datos, Aprendizaje Automático y sus Aplicaciones</h4>\n",
    "<h3> Análisis y Visualización de Datos </h3>\n",
    "</center>\n"
   ]
  },
  {
   "cell_type": "markdown",
   "metadata": {
    "colab_type": "text",
    "id": "X_mijtbJxRpU"
   },
   "source": [
    "# Distribuciones de probabilidad\n",
    "\n",
    "En esta notebook vamos a ver cómo computar distintas probabilidades y realizar distintos gráficos."
   ]
  },
  {
   "cell_type": "code",
   "execution_count": 11,
   "metadata": {
    "colab": {
     "base_uri": "https://localhost:8080/",
     "height": 91
    },
    "colab_type": "code",
    "id": "yBWTBtS8Mp1D",
    "outputId": "f261b74e-e8d6-4cd3-ae4e-8e571dd70515"
   },
   "outputs": [
    {
     "name": "stdout",
     "output_type": "stream",
     "text": [
      "0.10.1\n"
     ]
    }
   ],
   "source": [
    "import io\n",
    "import pandas\n",
    "import seaborn\n",
    "\n",
    "print(seaborn.__version__)"
   ]
  },
  {
   "cell_type": "markdown",
   "metadata": {},
   "source": [
    "Nota: la primera versión de esta notebook está ejecutada con un conjunto de datos generado artificialmente"
   ]
  },
  {
   "cell_type": "code",
   "execution_count": 19,
   "metadata": {
    "colab": {
     "base_uri": "https://localhost:8080/",
     "height": 416
    },
    "colab_type": "code",
    "id": "nDcbnarNOmYY",
    "outputId": "05c97744-301b-4ebb-9f0b-4c5d17659821"
   },
   "outputs": [
    {
     "data": {
      "text/html": [
       "<div>\n",
       "<style scoped>\n",
       "    .dataframe tbody tr th:only-of-type {\n",
       "        vertical-align: middle;\n",
       "    }\n",
       "\n",
       "    .dataframe tbody tr th {\n",
       "        vertical-align: top;\n",
       "    }\n",
       "\n",
       "    .dataframe thead th {\n",
       "        text-align: right;\n",
       "    }\n",
       "</style>\n",
       "<table border=\"1\" class=\"dataframe\">\n",
       "  <thead>\n",
       "    <tr style=\"text-align: right;\">\n",
       "      <th></th>\n",
       "      <th>timestamp</th>\n",
       "      <th>gender</th>\n",
       "      <th>age</th>\n",
       "      <th>zodiac_sign</th>\n",
       "      <th>profession</th>\n",
       "      <th>junior_programmer_salary</th>\n",
       "      <th>senior_programmer_salary</th>\n",
       "    </tr>\n",
       "  </thead>\n",
       "  <tbody>\n",
       "    <tr>\n",
       "      <th>0</th>\n",
       "      <td>0</td>\n",
       "      <td>Prefiero no decirlo</td>\n",
       "      <td>23</td>\n",
       "      <td>Cáncer</td>\n",
       "      <td>Ingeniero</td>\n",
       "      <td>27000</td>\n",
       "      <td>149000</td>\n",
       "    </tr>\n",
       "    <tr>\n",
       "      <th>1</th>\n",
       "      <td>1</td>\n",
       "      <td>Mujer</td>\n",
       "      <td>17</td>\n",
       "      <td>Virgo</td>\n",
       "      <td>Contadora</td>\n",
       "      <td>28000</td>\n",
       "      <td>74000</td>\n",
       "    </tr>\n",
       "    <tr>\n",
       "      <th>2</th>\n",
       "      <td>2</td>\n",
       "      <td>Varon</td>\n",
       "      <td>37</td>\n",
       "      <td>Tauro</td>\n",
       "      <td>Físico</td>\n",
       "      <td>22000</td>\n",
       "      <td>75000</td>\n",
       "    </tr>\n",
       "    <tr>\n",
       "      <th>3</th>\n",
       "      <td>3</td>\n",
       "      <td>Varon</td>\n",
       "      <td>23</td>\n",
       "      <td>Sagitario</td>\n",
       "      <td>Ingeniero</td>\n",
       "      <td>34000</td>\n",
       "      <td>127000</td>\n",
       "    </tr>\n",
       "    <tr>\n",
       "      <th>4</th>\n",
       "      <td>4</td>\n",
       "      <td>Varon</td>\n",
       "      <td>60</td>\n",
       "      <td>Picis</td>\n",
       "      <td>Contador</td>\n",
       "      <td>29000</td>\n",
       "      <td>84000</td>\n",
       "    </tr>\n",
       "    <tr>\n",
       "      <th>...</th>\n",
       "      <td>...</td>\n",
       "      <td>...</td>\n",
       "      <td>...</td>\n",
       "      <td>...</td>\n",
       "      <td>...</td>\n",
       "      <td>...</td>\n",
       "      <td>...</td>\n",
       "    </tr>\n",
       "    <tr>\n",
       "      <th>95</th>\n",
       "      <td>95</td>\n",
       "      <td>Varon</td>\n",
       "      <td>23</td>\n",
       "      <td>Géminis</td>\n",
       "      <td>Física</td>\n",
       "      <td>52000</td>\n",
       "      <td>68000</td>\n",
       "    </tr>\n",
       "    <tr>\n",
       "      <th>96</th>\n",
       "      <td>96</td>\n",
       "      <td>Varon</td>\n",
       "      <td>53</td>\n",
       "      <td>Géminis</td>\n",
       "      <td>Programador</td>\n",
       "      <td>20000</td>\n",
       "      <td>52000</td>\n",
       "    </tr>\n",
       "    <tr>\n",
       "      <th>97</th>\n",
       "      <td>97</td>\n",
       "      <td>Varon</td>\n",
       "      <td>63</td>\n",
       "      <td>Capricornio</td>\n",
       "      <td>Física</td>\n",
       "      <td>33000</td>\n",
       "      <td>48000</td>\n",
       "    </tr>\n",
       "    <tr>\n",
       "      <th>98</th>\n",
       "      <td>98</td>\n",
       "      <td>Varon</td>\n",
       "      <td>35</td>\n",
       "      <td>Libra</td>\n",
       "      <td>Matemático</td>\n",
       "      <td>34000</td>\n",
       "      <td>76000</td>\n",
       "    </tr>\n",
       "    <tr>\n",
       "      <th>99</th>\n",
       "      <td>99</td>\n",
       "      <td>Mujer</td>\n",
       "      <td>23</td>\n",
       "      <td>Escorpio</td>\n",
       "      <td>Profesor</td>\n",
       "      <td>32000</td>\n",
       "      <td>121000</td>\n",
       "    </tr>\n",
       "  </tbody>\n",
       "</table>\n",
       "<p>100 rows × 7 columns</p>\n",
       "</div>"
      ],
      "text/plain": [
       "    timestamp               gender  age  zodiac_sign   profession  \\\n",
       "0           0  Prefiero no decirlo   23       Cáncer    Ingeniero   \n",
       "1           1                Mujer   17        Virgo    Contadora   \n",
       "2           2                Varon   37        Tauro       Físico   \n",
       "3           3                Varon   23    Sagitario    Ingeniero   \n",
       "4           4                Varon   60        Picis     Contador   \n",
       "..        ...                  ...  ...          ...          ...   \n",
       "95         95                Varon   23      Géminis       Física   \n",
       "96         96                Varon   53      Géminis  Programador   \n",
       "97         97                Varon   63  Capricornio       Física   \n",
       "98         98                Varon   35        Libra   Matemático   \n",
       "99         99                Mujer   23     Escorpio     Profesor   \n",
       "\n",
       "    junior_programmer_salary  senior_programmer_salary  \n",
       "0                      27000                    149000  \n",
       "1                      28000                     74000  \n",
       "2                      22000                     75000  \n",
       "3                      34000                    127000  \n",
       "4                      29000                     84000  \n",
       "..                       ...                       ...  \n",
       "95                     52000                     68000  \n",
       "96                     20000                     52000  \n",
       "97                     33000                     48000  \n",
       "98                     34000                     76000  \n",
       "99                     32000                    121000  \n",
       "\n",
       "[100 rows x 7 columns]"
      ]
     },
     "execution_count": 19,
     "metadata": {},
     "output_type": "execute_result"
    }
   ],
   "source": [
    "df = pandas.read_csv('~/Downloads/generated_dataset.csv')\n",
    "df.columns = ['timestamp', 'gender', 'age', 'zodiac_sign', 'profession',\n",
    "              'junior_programmer_salary', 'senior_programmer_salary']\n",
    "df"
   ]
  },
  {
   "cell_type": "markdown",
   "metadata": {
    "colab_type": "text",
    "id": "5o4INtyGSTxJ"
   },
   "source": [
    "## Probabilidad\n",
    "\n",
    "Antes de hablar de probabilidad condicional entre dos variables, tenemos que encontrar un método para calcular la probabilidad de cada evento por separado. En el teórico vimos que si cada una de nuestros eventos es independiente e idénticamente distribuido, es decir, que $P(\\{a_i\\})=1/k$, entonces la probabilidad de un conjunto $A \\subset \\Omega$ es la proporción de $A$.\n",
    "\n",
    "$$P(\\{a_i\\})=1/k \\implies P(A)=|A|/|\\Omega|=|A|/k$$\n",
    "\n",
    "Calculemos entonces la probabilidad del evento *gender=Mujer*. Nuestro $\\Omega$ son todas las respuestas del dataset, cada $a_i$ es una variable que representa una respuesta, y el conjunto $A$ son las respuestas en la que la columna gender tiene el valor \"Mujer\". \n"
   ]
  },
  {
   "cell_type": "code",
   "execution_count": 13,
   "metadata": {
    "colab": {
     "base_uri": "https://localhost:8080/",
     "height": 35
    },
    "colab_type": "code",
    "id": "D4HILmylmAO6",
    "outputId": "aa07f9b8-98ff-4779-9b26-f89c4c11bf93"
   },
   "outputs": [
    {
     "data": {
      "text/plain": [
       "0.28"
      ]
     },
     "execution_count": 13,
     "metadata": {},
     "output_type": "execute_result"
    }
   ],
   "source": [
    "p_mujer = len(df[df.gender == 'Mujer']) / len(df)\n",
    "p_mujer"
   ]
  },
  {
   "cell_type": "markdown",
   "metadata": {
    "colab_type": "text",
    "id": "ZZdCDEUIhfUV"
   },
   "source": [
    "### Graficar la frecuencia y la probabilidad\n",
    "\n",
    "Podemos comparar visualmente la frecuencia de distintos conjuntos de datos de manera muy fácil. Con esto también veremos el primer tipo de gráficos: el *gráfico de barras*.\n",
    "\n",
    "Elegimos este tipo de gráfico porque nos permite representar cantidades numéricas, en este caso la frecuencia o la probabilidad, correspondientes a distintos valores categóricos, por ejemplo el género.\n",
    "\n",
    "Este gráfico es tan útil, que Seaborn, la librería para visualizaciones que usaremos, trae un método que cuenta los distintos valores posibles por nosotros. "
   ]
  },
  {
   "cell_type": "code",
   "execution_count": 14,
   "metadata": {
    "colab": {
     "base_uri": "https://localhost:8080/",
     "height": 296
    },
    "colab_type": "code",
    "id": "PvLy-FCvh28S",
    "outputId": "061b43e7-922e-43aa-9ca2-6d95d1ed24ac"
   },
   "outputs": [
    {
     "data": {
      "text/plain": [
       "<matplotlib.axes._subplots.AxesSubplot at 0x7f01098c1a58>"
      ]
     },
     "execution_count": 14,
     "metadata": {},
     "output_type": "execute_result"
    },
    {
     "data": {
      "image/png": "[encoded data removed]",
      "text/plain": [
       "<Figure size 432x288 with 1 Axes>"
      ]
     },
     "metadata": {
      "needs_background": "light"
     },
     "output_type": "display_data"
    }
   ],
   "source": [
    "import seaborn\n",
    "import matplotlib.pyplot as plt\n",
    "\n",
    "seaborn.countplot(df.gender, color='steelblue')"
   ]
  },
  {
   "cell_type": "markdown",
   "metadata": {
    "colab_type": "text",
    "id": "07APHg9sjFy-"
   },
   "source": [
    "Para calcular la probabilidad en lugar de la frecuencia de todos las respuestas posbiles para cada columna de una forma más sencilla con la operación *value_counts* de pandas."
   ]
  },
  {
   "cell_type": "code",
   "execution_count": 15,
   "metadata": {
    "colab": {
     "base_uri": "https://localhost:8080/",
     "height": 141
    },
    "colab_type": "code",
    "id": "zppn0N5lko9P",
    "outputId": "7f64d6d6-4593-4e63-d1b2-ffbd0fa46f80"
   },
   "outputs": [
    {
     "data": {
      "text/html": [
       "<div>\n",
       "<style scoped>\n",
       "    .dataframe tbody tr th:only-of-type {\n",
       "        vertical-align: middle;\n",
       "    }\n",
       "\n",
       "    .dataframe tbody tr th {\n",
       "        vertical-align: top;\n",
       "    }\n",
       "\n",
       "    .dataframe thead th {\n",
       "        text-align: right;\n",
       "    }\n",
       "</style>\n",
       "<table border=\"1\" class=\"dataframe\">\n",
       "  <thead>\n",
       "    <tr style=\"text-align: right;\">\n",
       "      <th></th>\n",
       "      <th>index</th>\n",
       "      <th>gender</th>\n",
       "    </tr>\n",
       "  </thead>\n",
       "  <tbody>\n",
       "    <tr>\n",
       "      <th>0</th>\n",
       "      <td>Varon</td>\n",
       "      <td>0.68</td>\n",
       "    </tr>\n",
       "    <tr>\n",
       "      <th>1</th>\n",
       "      <td>Mujer</td>\n",
       "      <td>0.28</td>\n",
       "    </tr>\n",
       "    <tr>\n",
       "      <th>2</th>\n",
       "      <td>Prefiero no decirlo</td>\n",
       "      <td>0.04</td>\n",
       "    </tr>\n",
       "  </tbody>\n",
       "</table>\n",
       "</div>"
      ],
      "text/plain": [
       "                 index  gender\n",
       "0                Varon    0.68\n",
       "1                Mujer    0.28\n",
       "2  Prefiero no decirlo    0.04"
      ]
     },
     "execution_count": 15,
     "metadata": {},
     "output_type": "execute_result"
    }
   ],
   "source": [
    "data = df['gender'].value_counts(normalize=True).reset_index()\n",
    "data"
   ]
  },
  {
   "cell_type": "code",
   "execution_count": 16,
   "metadata": {
    "colab": {
     "base_uri": "https://localhost:8080/",
     "height": 296
    },
    "colab_type": "code",
    "id": "SprWt7qjjhnG",
    "outputId": "1ce55c12-14a0-4cf3-81b2-ff358177d7f4"
   },
   "outputs": [
    {
     "data": {
      "text/plain": [
       "Text(0, 0.5, 'Probability')"
      ]
     },
     "execution_count": 16,
     "metadata": {},
     "output_type": "execute_result"
    },
    {
     "data": {
      "image/png": "[encoded data removed]",
      "text/plain": [
       "<Figure size 432x288 with 1 Axes>"
      ]
     },
     "metadata": {
      "needs_background": "light"
     },
     "output_type": "display_data"
    }
   ],
   "source": [
    "seaborn.barplot(data=data, x='index', y='gender', color='steelblue')\n",
    "plt.xlabel(\"Gender\")  # Rename the labels on the side of the axis\n",
    "plt.ylabel(\"Probability\")"
   ]
  },
  {
   "cell_type": "markdown",
   "metadata": {
    "colab_type": "text",
    "id": "2IbCS52afTe0"
   },
   "source": [
    "## Probabilidad condicional\n",
    "\n",
    "Ahora podemos pasar a hablar de la probabilidad condicional. La definimos como\n",
    "\n",
    "$$P(A|B) = \\frac{P(A \\cap B)}{P(B)}$$\n",
    "\n",
    "Esto es equivalente a:\n",
    "\n",
    "$$P(A|B) = \\frac{|A \\cap B|}{|B|}$$\n",
    "\n",
    "## Ejercicio 1\n",
    "\n",
    "Calcular la probabilidad de que una respuesta tenga *gender=Mujer* dado que sabemos que tiene *zodiac_sign=Aries*"
   ]
  },
  {
   "cell_type": "code",
   "execution_count": 17,
   "metadata": {
    "colab": {
     "base_uri": "https://localhost:8080/",
     "height": 35
    },
    "colab_type": "code",
    "id": "hhStGXpZfQUO",
    "outputId": "cd580ba9-46b7-492d-ab86-c5523d7e297d"
   },
   "outputs": [],
   "source": [
    "count_mujer_and_aries = len(df[(df.gender == 'Mujer') & (df.zodiac_sign == 'Aries')])\n",
    "## TODO completar acá"
   ]
  },
  {
   "cell_type": "markdown",
   "metadata": {
    "colab_type": "text",
    "id": "z1syR25xgdLO"
   },
   "source": [
    "## Independecia\n",
    "\n",
    "Ahora, para saber si dos conjuntos son independientes, tenemos que comprobar si $P(A|B) = P(A)$ ó $P(A\\cap B) = P(A)*P(B)$.\n",
    "\n",
    "## Ejercicio 2\n",
    "\n",
    "Calcular si los conjuntos de respuestas con *gender=Mujer* y *zodiac_sign=Aries* son independientes o no, utilizando ambos métodos.\n",
    "\n"
   ]
  },
  {
   "cell_type": "code",
   "execution_count": null,
   "metadata": {
    "colab": {
     "base_uri": "https://localhost:8080/",
     "height": 35
    },
    "colab_type": "code",
    "id": "-Wfg2p78PN_-",
    "outputId": "195d7e8a-868d-4a75-f5ac-9bcbeb726314"
   },
   "outputs": [],
   "source": []
  },
  {
   "cell_type": "code",
   "execution_count": null,
   "metadata": {
    "colab": {},
    "colab_type": "code",
    "id": "dwD0SGOHlx9L"
   },
   "outputs": [],
   "source": []
  },
  {
   "cell_type": "code",
   "execution_count": null,
   "metadata": {},
   "outputs": [],
   "source": []
  }
 ],
 "metadata": {
  "colab": {
   "name": "03_probabilidad.ipynb",
   "provenance": []
  },
  "kernelspec": {
   "display_name": "Python 3",
   "language": "python",
   "name": "python3"
  },
  "language_info": {
   "codemirror_mode": {
    "name": "ipython",
    "version": 3
   },
   "file_extension": ".py",
   "mimetype": "text/x-python",
   "name": "python",
   "nbconvert_exporter": "python",
   "pygments_lexer": "ipython3",
   "version": "3.6.10"
  }
 },
 "nbformat": 4,
 "nbformat_minor": 4
}
