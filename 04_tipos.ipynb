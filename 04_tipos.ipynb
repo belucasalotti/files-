{
 "cells": [
  {
   "cell_type": "markdown",
   "metadata": {
    "colab_type": "text",
    "id": "3yqLqibr0M_8"
   },
   "source": [
    "<center>\n",
    "<h4>Universidad Nacional de Córdoba - Diplomatura en Ciencia de Datos, Aprendizaje Automático y sus Aplicaciones</h4>\n",
    "<h3> Análisis y Visualización de Datos </h3>\n",
    "</center>\n"
   ]
  },
  {
   "cell_type": "markdown",
   "metadata": {
    "colab_type": "text",
    "id": "FATjz1ST0RRZ"
   },
   "source": [
    "# Tipos de datos\n",
    "\n",
    "En esta notebook vamos a analizar los tipos de datos estadísticos de nuestro dataset, y comparalos con los tipos de datos computacionales de pandas."
   ]
  },
  {
   "cell_type": "code",
   "execution_count": 2,
   "metadata": {
    "colab": {
     "base_uri": "https://localhost:8080/",
     "height": 91
    },
    "colab_type": "code",
    "id": "yBWTBtS8Mp1D",
    "outputId": "f35828e4-596f-4386-9677-61ca34e66acc"
   },
   "outputs": [
    {
     "name": "stdout",
     "output_type": "stream",
     "text": [
      "0.10.1\n"
     ]
    }
   ],
   "source": [
    "import io\n",
    "import pandas\n",
    "import seaborn\n",
    "\n",
    "print(seaborn.__version__)"
   ]
  },
  {
   "cell_type": "code",
   "execution_count": 3,
   "metadata": {
    "colab": {
     "base_uri": "https://localhost:8080/",
     "height": 141
    },
    "colab_type": "code",
    "id": "nDcbnarNOmYY",
    "outputId": "0fc8943c-4d74-4085-8767-8534f60df733"
   },
   "outputs": [
    {
     "data": {
      "text/html": [
       "<div>\n",
       "<style scoped>\n",
       "    .dataframe tbody tr th:only-of-type {\n",
       "        vertical-align: middle;\n",
       "    }\n",
       "\n",
       "    .dataframe tbody tr th {\n",
       "        vertical-align: top;\n",
       "    }\n",
       "\n",
       "    .dataframe thead th {\n",
       "        text-align: right;\n",
       "    }\n",
       "</style>\n",
       "<table border=\"1\" class=\"dataframe\">\n",
       "  <thead>\n",
       "    <tr style=\"text-align: right;\">\n",
       "      <th></th>\n",
       "      <th>timestamp</th>\n",
       "      <th>gender</th>\n",
       "      <th>age</th>\n",
       "      <th>zodiac_sign</th>\n",
       "      <th>profession</th>\n",
       "      <th>junior_programmer_salary</th>\n",
       "      <th>senior_programmer_salary</th>\n",
       "    </tr>\n",
       "  </thead>\n",
       "  <tbody>\n",
       "    <tr>\n",
       "      <th>0</th>\n",
       "      <td>0</td>\n",
       "      <td>Prefiero no decirlo</td>\n",
       "      <td>23</td>\n",
       "      <td>Cáncer</td>\n",
       "      <td>Ingeniero</td>\n",
       "      <td>27000</td>\n",
       "      <td>149000</td>\n",
       "    </tr>\n",
       "    <tr>\n",
       "      <th>1</th>\n",
       "      <td>1</td>\n",
       "      <td>Mujer</td>\n",
       "      <td>17</td>\n",
       "      <td>Virgo</td>\n",
       "      <td>Contadora</td>\n",
       "      <td>28000</td>\n",
       "      <td>74000</td>\n",
       "    </tr>\n",
       "    <tr>\n",
       "      <th>2</th>\n",
       "      <td>2</td>\n",
       "      <td>Varon</td>\n",
       "      <td>37</td>\n",
       "      <td>Tauro</td>\n",
       "      <td>Físico</td>\n",
       "      <td>22000</td>\n",
       "      <td>75000</td>\n",
       "    </tr>\n",
       "  </tbody>\n",
       "</table>\n",
       "</div>"
      ],
      "text/plain": [
       "   timestamp               gender  age zodiac_sign profession  \\\n",
       "0          0  Prefiero no decirlo   23      Cáncer  Ingeniero   \n",
       "1          1                Mujer   17       Virgo  Contadora   \n",
       "2          2                Varon   37       Tauro     Físico   \n",
       "\n",
       "   junior_programmer_salary  senior_programmer_salary  \n",
       "0                     27000                    149000  \n",
       "1                     28000                     74000  \n",
       "2                     22000                     75000  "
      ]
     },
     "execution_count": 3,
     "metadata": {},
     "output_type": "execute_result"
    }
   ],
   "source": [
    "df = pandas.read_csv('~/Downloads/generated_dataset.csv')\n",
    "df.columns = ['timestamp', 'gender', 'age', 'zodiac_sign', 'profession',\n",
    "              'junior_programmer_salary', 'senior_programmer_salary']\n",
    "df[:3]"
   ]
  },
  {
   "cell_type": "markdown",
   "metadata": {
    "colab_type": "text",
    "id": "5o4INtyGSTxJ"
   },
   "source": [
    "## Tipos de variables aleatorias\n",
    "\n",
    "En base a la definición de variable aleatoria que vimos en el teórico, podemos hablar de que cada columna de nuestro dataset es un **variable aleatoria**, y que su valor en cada respuesta es una **realización** de dicha variable. Pero, ¿qué tipo tienen esas variables?\n",
    "\n",
    "Tenemos que distinguir dos conceptos con el mismo nombre y significado similar, pero que no son iguales:\n",
    " - **tipo de la variable aleatoria** es el tipo teórico que tienen nuestros datos.\n",
    " - **tipo de datos** es un concepto de programación que indica en qué formato se representa la información.\n",
    "\n",
    "Analicemos el tipo de cada variable aleatoria en base a la clasificación que vimos en el teórico:\n",
    " \n",
    "- `gender`: ??\n",
    "- `age`: ??\n",
    "- `zodiac_sign`: ??\n",
    "- `profession`: ??\n",
    "- `junior_programmer_salary`: ??\n",
    "- `senior_programmer_salary`: ??\n",
    "\n",
    "Preguntar para discutir:\n",
    "\n",
    "1. El tipo de `age`, ¿es discreto o continuo?\n",
    "2. ¿Qué valores pueden tomar `junior_programmer_salary` y `senior_programmer_salary`? ¿Qué valores toman en la encuenta?\n",
    "2. Los signos del zodiaco siguen un orden (al igual que los días y los meses del año). ¿Podríamos decir que `zodiac_sign` tiene tipo ordinal?\n",
    " \n"
   ]
  },
  {
   "cell_type": "markdown",
   "metadata": {
    "colab_type": "text",
    "id": "12GWuJocsY5o"
   },
   "source": [
    "### Rango y valores posibles\n",
    "\n",
    "Siempre es útil saber qué valores puede tomar una variable para entender qué tipo tiene. Sin embargo, si sospechamos que una variable es continua, no tiene sentido listar todos sus valores posibles. En ese caso, nos conviene mostrar sólo el rango, o tomar una pequeña muestra. Veamos algunos ejemplos:\n"
   ]
  },
  {
   "cell_type": "code",
   "execution_count": 4,
   "metadata": {
    "colab": {
     "base_uri": "https://localhost:8080/",
     "height": 35
    },
    "colab_type": "code",
    "id": "4V1UspMStvuq",
    "outputId": "10363e1c-3fad-4059-c90e-2251a239ef07"
   },
   "outputs": [
    {
     "data": {
      "text/plain": [
       "array(['Prefiero no decirlo', 'Mujer', 'Varon'], dtype=object)"
      ]
     },
     "execution_count": 4,
     "metadata": {},
     "output_type": "execute_result"
    }
   ],
   "source": [
    "df.gender.unique()  # Listar todos los valores posibles"
   ]
  },
  {
   "cell_type": "code",
   "execution_count": 5,
   "metadata": {
    "colab": {
     "base_uri": "https://localhost:8080/",
     "height": 35
    },
    "colab_type": "code",
    "id": "5O7S-oHRtX4N",
    "outputId": "9d9ca1a8-ddcb-436b-c6c6-974c24e69f74"
   },
   "outputs": [
    {
     "data": {
      "text/plain": [
       "(63, -3)"
      ]
     },
     "execution_count": 5,
     "metadata": {},
     "output_type": "execute_result"
    }
   ],
   "source": [
    "df.age.max(), df.age.min()  # Variable numérica"
   ]
  },
  {
   "cell_type": "code",
   "execution_count": 6,
   "metadata": {
    "colab": {
     "base_uri": "https://localhost:8080/",
     "height": 213
    },
    "colab_type": "code",
    "id": "wZo5XaM2tbRv",
    "outputId": "c631c246-4473-4c77-c085-af7018ccf4e0"
   },
   "outputs": [
    {
     "data": {
      "text/plain": [
       "38    54000\n",
       "36    40000\n",
       "11    24000\n",
       "26    34000\n",
       "12    29000\n",
       "62    34000\n",
       "97    33000\n",
       "92    41000\n",
       "54    41000\n",
       "73    32000\n",
       "Name: junior_programmer_salary, dtype: int64"
      ]
     },
     "execution_count": 6,
     "metadata": {},
     "output_type": "execute_result"
    }
   ],
   "source": [
    "df.junior_programmer_salary.sample(n=10)  # Tomamos una muestra"
   ]
  },
  {
   "cell_type": "code",
   "execution_count": 7,
   "metadata": {
    "colab": {
     "base_uri": "https://localhost:8080/",
     "height": 71
    },
    "colab_type": "code",
    "id": "aHRzQL81uD8g",
    "outputId": "46bc5357-b61b-4d2a-8922-6e3735db28fc"
   },
   "outputs": [
    {
     "data": {
      "text/plain": [
       "array(['Ingeniero', 'Contadora', 'Físico', 'Contador', 'Profesor',\n",
       "       'Física', 'Economista', 'Matemático', 'Profesora', 'Maestra'],\n",
       "      dtype=object)"
      ]
     },
     "execution_count": 7,
     "metadata": {},
     "output_type": "execute_result"
    }
   ],
   "source": [
    "df.profession.unique()[:10]"
   ]
  },
  {
   "cell_type": "markdown",
   "metadata": {
    "colab_type": "text",
    "id": "CBDd_sJ0rXmJ"
   },
   "source": [
    "## Tipos de datos en programación\n",
    "\n",
    "Ahora pasemos al tipo de datos. Podemos saber con Pandas cómo está guardando la información de cada columna:\n"
   ]
  },
  {
   "cell_type": "code",
   "execution_count": 8,
   "metadata": {
    "colab": {
     "base_uri": "https://localhost:8080/",
     "height": 160
    },
    "colab_type": "code",
    "id": "D4HILmylmAO6",
    "outputId": "8522273f-d5ba-4c02-84de-5e3222588b31"
   },
   "outputs": [
    {
     "data": {
      "text/plain": [
       "timestamp                    int64\n",
       "gender                      object\n",
       "age                          int64\n",
       "zodiac_sign                 object\n",
       "profession                  object\n",
       "junior_programmer_salary     int64\n",
       "senior_programmer_salary     int64\n",
       "dtype: object"
      ]
     },
     "execution_count": 8,
     "metadata": {},
     "output_type": "execute_result"
    }
   ],
   "source": [
    "df.dtypes"
   ]
  },
  {
   "cell_type": "markdown",
   "metadata": {
    "colab_type": "text",
    "id": "dn9MEK0wrrJq"
   },
   "source": [
    "En este caso, el tipo `object` hace referencia a un string, pero también podría ser una fecha, una lista, o cualquier cosa más compleja que un número. El tipo de datos no siempre se correlaciona con el tipo de la variable. Por ejemplo, si guardamos un puntaje de satisfacción del 1 al 5, aunque usemos números, esa variable es conceptualmente ordinal y no numérica."
   ]
  }
 ],
 "metadata": {
  "colab": {
   "name": "04_tipos.ipynb",
   "provenance": []
  },
  "kernelspec": {
   "display_name": "Python 3",
   "language": "python",
   "name": "python3"
  },
  "language_info": {
   "codemirror_mode": {
    "name": "ipython",
    "version": 3
   },
   "file_extension": ".py",
   "mimetype": "text/x-python",
   "name": "python",
   "nbconvert_exporter": "python",
   "pygments_lexer": "ipython3",
   "version": "3.6.10"
  }
 },
 "nbformat": 4,
 "nbformat_minor": 4
}
