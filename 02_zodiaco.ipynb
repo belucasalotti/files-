{
 "cells": [
  {
   "cell_type": "markdown",
   "metadata": {
    "colab_type": "text",
    "id": "vYEChqs4x8FP"
   },
   "source": [
    "<center>\n",
    "<h4>Universidad Nacional de Córdoba - Diplomatura en Ciencia de Datos, Aprendizaje Automático y sus Aplicaciones</h4>\n",
    "<h3> Análisis y Visualización de Datos </h3>\n",
    "</center>"
   ]
  },
  {
   "cell_type": "markdown",
   "metadata": {
    "colab_type": "text",
    "id": "hvU2GWKyx-6I"
   },
   "source": [
    "# Medida de probabilidad\n",
    "\n",
    "En esta notebook, resolvemos en Python los ejercicios del signo del zodiaco que propusimos en las filminas."
   ]
  },
  {
   "cell_type": "markdown",
   "metadata": {
    "colab_type": "text",
    "id": "fAwRIAHix5K0"
   },
   "source": [
    "## Ejercicio 3:\n",
    "\n",
    "**¿Cuál es la probabilidad de que entre “n” personas dos tengan el mismo signo?**\n",
    "\n",
    " $$\n",
    "    p=P(A)=1-P(A^c)= \\left\\{\\begin{array}{lr}\n",
    "        1 & \\text{si }  n> 12\\\\\n",
    "        1-\\frac{ 12!}{ (12-n)!\\ 12^n} & \\text{si } n\\leq 12\n",
    "        \\end{array}\\right.\n",
    " $$ \n",
    " \n",
    " Depende de n, de la cantidad de personas"
   ]
  },
  {
   "cell_type": "code",
   "execution_count": null,
   "metadata": {
    "colab": {},
    "colab_type": "code",
    "id": "QrB3cNi9x5K2"
   },
   "outputs": [],
   "source": [
    "def prob_coinc_signo(n):\n",
    "    if n>12:\n",
    "        p = 1\n",
    "    else: \n",
    "        aux = 1\n",
    "        for k in range(n):\n",
    "            aux = aux*(12-k)/12\n",
    "        p = 1-aux\n",
    "    return p"
   ]
  },
  {
   "cell_type": "code",
   "execution_count": 2,
   "metadata": {
    "colab": {
     "base_uri": "https://localhost:8080/",
     "height": 35
    },
    "colab_type": "code",
    "id": "U_q_rTqRx5K7",
    "outputId": "93ff1d48-61c0-4b51-df43-bdaaae5edc4d"
   },
   "outputs": [
    {
     "name": "stdout",
     "output_type": "stream",
     "text": [
      "la probabilidad encontrar coincidencia de signo entre  8  personas es:  0.9535831404320988\n"
     ]
    }
   ],
   "source": [
    "## Elegir n: cantidad de personas (en una reunión)\n",
    "n = 8\n",
    "print('La probabilidad encontrar coincidencia de signo entre ',\n",
    "      n, ' personas es: ', prob_coinc_signo(n))"
   ]
  },
  {
   "cell_type": "markdown",
   "metadata": {
    "colab_type": "text",
    "id": "LW1SQu6jx5LA"
   },
   "source": [
    "## Ejercicio 4\n",
    "\n",
    "**¿Cuál es la probabilidad de que entre “n” personas dos hayan nacido el mismo día?**\n",
    "\n",
    " $$\n",
    "    p=P(A)=1-P(A^c)= \\left\\{\\begin{array}{lr}\n",
    "        1 & \\text{si }  n> 365\\\\\n",
    "        1-\\frac{ 365!}{ (365-n)!\\ 365^n} & \\text{si } n\\leq 365\n",
    "        \\end{array}\\right.\n",
    " $$ \n",
    " \n",
    " Depende de n, de la cantidad de personas"
   ]
  },
  {
   "cell_type": "code",
   "execution_count": null,
   "metadata": {
    "colab": {},
    "colab_type": "code",
    "id": "n_HYcDHSx5LB"
   },
   "outputs": [],
   "source": [
    "def prob_coinc_cumple(n):\n",
    "    if n > 365:\n",
    "        p = 1\n",
    "    else: \n",
    "        aux = 1\n",
    "        for k in range(n):\n",
    "            aux = aux*(365-k)/365            \n",
    "        p = 1-aux\n",
    "    return p"
   ]
  },
  {
   "cell_type": "code",
   "execution_count": 4,
   "metadata": {
    "colab": {
     "base_uri": "https://localhost:8080/",
     "height": 35
    },
    "colab_type": "code",
    "id": "NxfjQq0ix5LF",
    "outputId": "d5db57bd-8039-43f1-9dfd-068289080d17"
   },
   "outputs": [
    {
     "name": "stdout",
     "output_type": "stream",
     "text": [
      "la probabilidad encontrar coincidencia de cumpleaños entre  57  personas es:  0.9901224593411699\n"
     ]
    }
   ],
   "source": [
    "## Elegir n: cantidad de personas \n",
    "n = 57\n",
    "print('La probabilidad encontrar coincidencia de cumpleaños entre ',\n",
    "      n, ' personas es: ', prob_coinc_cumple(n))"
   ]
  },
  {
   "cell_type": "code",
   "execution_count": null,
   "metadata": {
    "colab": {},
    "colab_type": "code",
    "id": "IXUvA5ZWx5LJ"
   },
   "outputs": [],
   "source": []
  }
 ],
 "metadata": {
  "colab": {
   "name": "02_zodiaco.ipynb",
   "provenance": []
  },
  "kernelspec": {
   "display_name": "Python 3",
   "language": "python",
   "name": "python3"
  },
  "language_info": {
   "codemirror_mode": {
    "name": "ipython",
    "version": 3
   },
   "file_extension": ".py",
   "mimetype": "text/x-python",
   "name": "python",
   "nbconvert_exporter": "python",
   "pygments_lexer": "ipython3",
   "version": "3.6.10"
  }
 },
 "nbformat": 4,
 "nbformat_minor": 4
}
